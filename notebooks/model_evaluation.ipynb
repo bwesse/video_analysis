{
 "cells": [
  {
   "cell_type": "code",
   "execution_count": null,
   "metadata": {},
   "outputs": [],
   "source": [
    "from sklearn.metrics import precision_recall_fscore_support, confusion_matrix\n",
    "\n",
    "# Assume y_true and y_pred are the ground truth and predictions\n",
    "y_true = [0, 1, 1, 0, 1]\n",
    "y_pred = [0, 0, 1, 1, 1]\n",
    "\n",
    "precision, recall, fscore, _ = precision_recall_fscore_support(y_true, y_pred, average='weighted')\n",
    "conf_matrix = confusion_matrix(y_true, y_pred)\n",
    "\n",
    "print(f'Precision: {precision}, Recall: {recall}, F-Score: {fscore}')\n",
    "print(f'Confusion Matrix:\\n{conf_matrix}')\n"
   ]
  }
 ],
 "metadata": {
  "language_info": {
   "name": "python"
  }
 },
 "nbformat": 4,
 "nbformat_minor": 2
}
